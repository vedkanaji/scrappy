{
 "cells": [
  {
   "cell_type": "code",
   "execution_count": 1,
   "metadata": {},
   "outputs": [
    {
     "name": "stdout",
     "output_type": "stream",
     "text": [
      "Current directory: e:\\scrappy\\src\\ipython\n",
      "Script location: e:\\scrappy\\src\\ipython\\setup.py\n",
      "Base directory: E:\\scrappy\\src\n",
      "setup.py BASE_DIR: E:\\scrappy\\src\n",
      "Attempting to use base directory: E:\\scrappy\\src\n",
      "Django setup complete. Using project: config\n"
     ]
    }
   ],
   "source": [
    "import setup\n",
    "setup.init_django(project_name='config')"
   ]
  },
  {
   "cell_type": "code",
   "execution_count": 2,
   "metadata": {},
   "outputs": [],
   "source": [
    "import helpers"
   ]
  },
  {
   "cell_type": "code",
   "execution_count": 3,
   "metadata": {},
   "outputs": [],
   "source": [
    "url =\"https://www.amazon.in/Sony-CFI-2008A01X-PlayStation%C2%AE5-Console-slim/dp/B0CY5HVDS2?dib=eyJ2IjoiMSJ9.pFhgCqcURNHp7Ghh6tpkbnpMS-EPEWOhlo_-YgjavWygB1LDQv6EOzw2xmRdlu_CTYidmbZUYJxO-Yx5dScwwwPgTbSFS5qYA1rc2AsGKR4Ff3QuNYZ-CptSy-XxIkc2brOJUkwrXzzyNzMkPWeqDD-iLjlkPqPMSBsjDZPNobXlW2-6jG32tGNtHwjD6IKnkZ9y1K6VExL2-siqoWmzj_wNllrEgfkJglZ-rG7Qctc.62sotlNM0TY4PkCKnWHe5VC6runjh4hUIvfK90Mz0AE&dib_tag=se&keywords=ps5&qid=1737391271&sr=8-2\""
   ]
  },
  {
   "cell_type": "code",
   "execution_count": 4,
   "metadata": {},
   "outputs": [
    {
     "name": "stdout",
     "output_type": "stream",
     "text": [
      "Connecting to Scraping Browser...\n"
     ]
    },
    {
     "name": "stderr",
     "output_type": "stream",
     "text": [
      "e:\\scrappy\\.venv\\lib\\site-packages\\selenium\\webdriver\\remote\\remote_connection.py:418: UserWarning: Embedding username and password in URL could be insecure, use ClientConfig instead\n",
      "  headers = self.get_remote_connection_headers(parsed_url, self._client_config.keep_alive)\n"
     ]
    },
    {
     "name": "stdout",
     "output_type": "stream",
     "text": [
      "Connected! Navigating to https://www.amazon.in/Sony-CFI-2008A01X-PlayStation%C2%AE5-Console-slim/dp/B0CY5HVDS2\n",
      "Navigated! Scraping page content...\n"
     ]
    }
   ],
   "source": [
    "html = helpers.scrape(url=url)\n",
    "data = helpers.extract_amazon_product_data(html)"
   ]
  },
  {
   "cell_type": "code",
   "execution_count": 5,
   "metadata": {},
   "outputs": [
    {
     "data": {
      "text/plain": [
       "{'asin': ['B0CY5HVDS2'],\n",
       " 'title': 'Sony PlayStation®5 Console (slim)',\n",
       " 'price_raw': '54,990.',\n",
       " 'price_text': '54990.',\n",
       " 'price': 54990.0,\n",
       " 'metadata': [],\n",
       " 'description': ' \\n PlayStation®5 Console The PS5® console unleashes new gaming possibilities that you never anticipated. Experience lightning fast loading with an ultra-high speed SSD, deeper immersion with support for haptic feedback, adaptive triggers, and 3D Audio, and an all-new generation of incredible PlayStation® games. Lightning Speed: Harness the power of a custom CPU, GPU, and SSD with Integrated I/O that rewrite the rules of what a PlayStation® console can do. Stunning Games: Marvel at incredible graphics and experience new PS5® features. Play a back catalog of supported PS4® games. Breathtaking Immersion: Discover a deeper gaming experience with support for haptic feedback, adaptive triggers, and 3D Audio technology. Vertical stand sold separately. *PS5® console (CFI-2000 model group – slim) 23D audio via built-in TV speakers or analog/USB stereo headphones. Set up and latest system software update required. Internet connection required to pair Disc Drive and PS5® console upon setup.  ',\n",
       " 'feature_bullets': \" \\n About this item    Slim Design: With PS5, players get powerful gaming technology packed inside a sleek and compact console design. 1TB of Storage: Keep your favorite games ready and waiting for you to jump in and play with 1TB of SSD storage built in. Ultra-High Speed SSD: Maximize your play sessions with near instant load times for installed PS5 games.    Integrated I/O: The custom integration of the PS5 console's systems lets creators pull data from the SSD so quickly that they can design games in ways never before possible. Ray Tracing: Immerse yourself in worlds with a new level of realism as rays of light are individually simulated, creating true-to-life shadows and reflections in supported PS5 games. 4K-TV Gaming: Play your favorite PS5 games on your stunning 4K TV.    Up to 120fps with 120Hz output: Enjoy smooth and fluid high frame rate gameplay at up to 120fps for compatible games, with support for 120Hz output on 4K displays. HDR Technology: With an HDR TV, supported PS5 games display an unbelievably vibrant and lifelike range of colors. Tempest 3D AudioTech: Immerse yourself in soundscapes where it feels as if the sound comes from every direction. Your surroundings truly come alive with Tempest 3D AudioTech in supported games.    Haptic Feedback: Experience haptic feedback via the DualSense wireless controller in select PS5 titles and feel the effects and impact of your in-game actions through dynamic sensory feedback. Adaptive Triggers: Get to grips with immersive adaptive triggers, featuring dynamic resistance levels which simulate the physical impact of in-game activities in select PS5 games.    Includes ASTRO’S: Playroom Explore four worlds, each one showcasing innovative gameplay using the versatile features of the DualSense wireless controller, in this game included for all PS5 console users.    \\n ›  See more product details   \",\n",
       " 'rating': {'average': 4.3, 'count': 291}}"
      ]
     },
     "execution_count": 5,
     "metadata": {},
     "output_type": "execute_result"
    }
   ],
   "source": [
    "data"
   ]
  },
  {
   "cell_type": "code",
   "execution_count": null,
   "metadata": {},
   "outputs": [],
   "source": []
  }
 ],
 "metadata": {
  "kernelspec": {
   "display_name": ".venv",
   "language": "python",
   "name": "python3"
  },
  "language_info": {
   "codemirror_mode": {
    "name": "ipython",
    "version": 3
   },
   "file_extension": ".py",
   "mimetype": "text/x-python",
   "name": "python",
   "nbconvert_exporter": "python",
   "pygments_lexer": "ipython3",
   "version": "3.10.7"
  }
 },
 "nbformat": 4,
 "nbformat_minor": 2
}
