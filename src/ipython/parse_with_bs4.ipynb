{
 "cells": [
  {
   "cell_type": "code",
   "execution_count": 3,
   "metadata": {},
   "outputs": [
    {
     "name": "stdout",
     "output_type": "stream",
     "text": [
      "Attempting to use base directory: E:\\scrappy\\src\n",
      "Django setup complete. Using project: config\n"
     ]
    }
   ],
   "source": [
    "import setup\n",
    "setup.init_django('config')"
   ]
  },
  {
   "cell_type": "code",
   "execution_count": 4,
   "metadata": {},
   "outputs": [],
   "source": [
    "url =\"https://www.amazon.in/Sony-CFI-2008A01X-PlayStation%C2%AE5-Console-slim/dp/B0CY5HVDS2?dib=eyJ2IjoiMSJ9.pFhgCqcURNHp7Ghh6tpkbnpMS-EPEWOhlo_-YgjavWygB1LDQv6EOzw2xmRdlu_CTYidmbZUYJxO-Yx5dScwwwPgTbSFS5qYA1rc2AsGKR4Ff3QuNYZ-CptSy-XxIkc2brOJUkwrXzzyNzMkPWeqDD-iLjlkPqPMSBsjDZPNobXlW2-6jG32tGNtHwjD6IKnkZ9y1K6VExL2-siqoWmzj_wNllrEgfkJglZ-rG7Qctc.62sotlNM0TY4PkCKnWHe5VC6runjh4hUIvfK90Mz0AE&dib_tag=se&keywords=ps5&qid=1737391271&sr=8-2\""
   ]
  },
  {
   "cell_type": "code",
   "execution_count": 5,
   "metadata": {},
   "outputs": [
    {
     "name": "stdout",
     "output_type": "stream",
     "text": [
      "Connecting to Scraping Browser...\n"
     ]
    },
    {
     "name": "stderr",
     "output_type": "stream",
     "text": [
      "e:\\scrappy\\.venv\\lib\\site-packages\\selenium\\webdriver\\remote\\remote_connection.py:418: UserWarning: Embedding username and password in URL could be insecure, use ClientConfig instead\n",
      "  headers = self.get_remote_connection_headers(parsed_url, self._client_config.keep_alive)\n"
     ]
    },
    {
     "name": "stdout",
     "output_type": "stream",
     "text": [
      "Connected! Navigating to https://www.amazon.in/Sony-CFI-2008A01X-PlayStation%C2%AE5-Console-slim/dp/B0CY5HVDS2?dib=eyJ2IjoiMSJ9.pFhgCqcURNHp7Ghh6tpkbnpMS-EPEWOhlo_-YgjavWygB1LDQv6EOzw2xmRdlu_CTYidmbZUYJxO-Yx5dScwwwPgTbSFS5qYA1rc2AsGKR4Ff3QuNYZ-CptSy-XxIkc2brOJUkwrXzzyNzMkPWeqDD-iLjlkPqPMSBsjDZPNobXlW2-6jG32tGNtHwjD6IKnkZ9y1K6VExL2-siqoWmzj_wNllrEgfkJglZ-rG7Qctc.62sotlNM0TY4PkCKnWHe5VC6runjh4hUIvfK90Mz0AE&dib_tag=se&keywords=ps5&qid=1737391271&sr=8-2\n",
      "Navigated! Scraping page content...\n"
     ]
    }
   ],
   "source": [
    "import helpers\n",
    "\n",
    "html = helpers.scrape(url=url)"
   ]
  },
  {
   "cell_type": "code",
   "execution_count": 6,
   "metadata": {},
   "outputs": [],
   "source": [
    "from bs4 import BeautifulSoup"
   ]
  },
  {
   "cell_type": "code",
   "execution_count": 7,
   "metadata": {},
   "outputs": [],
   "source": [
    "soup = BeautifulSoup(html)"
   ]
  },
  {
   "cell_type": "code",
   "execution_count": 8,
   "metadata": {},
   "outputs": [
    {
     "data": {
      "text/plain": [
       "'Sony PlayStation®5 Console (slim)'"
      ]
     },
     "execution_count": 8,
     "metadata": {},
     "output_type": "execute_result"
    }
   ],
   "source": [
    "product_title = soup.find('span', id=\"productTitle\")\n",
    "project_title_text = f\"{product_title.text}\".strip()\n",
    "project_title_text"
   ]
  },
  {
   "cell_type": "code",
   "execution_count": 13,
   "metadata": {},
   "outputs": [
    {
     "data": {
      "text/plain": [
       "54990.0"
      ]
     },
     "execution_count": 13,
     "metadata": {},
     "output_type": "execute_result"
    }
   ],
   "source": [
    "product_price = soup.find_all('span', class_='a-price-whole')[0]\n",
    "product_price_text = \"\".join([x for x in  f\"{product_price.text}\".strip() if x.isdigit() or x == '.'])\n",
    "product_price_num = float(product_price_text)\n",
    "product_price_num"
   ]
  },
  {
   "cell_type": "code",
   "execution_count": 22,
   "metadata": {},
   "outputs": [],
   "source": [
    "def clean_product_details_list(columns):\n",
    "    cleaned_list = []\n",
    "    \n",
    "    for item in columns:\n",
    "        # Remove Unicode control characters and extra whitespace\n",
    "        cleaned_item = item.replace('\\u200f', '').replace('\\u200e', '')\n",
    "        cleaned_item = ' '.join(cleaned_item.split())\n",
    "        cleaned_list.append(cleaned_item)\n",
    "    \n",
    "    return cleaned_list"
   ]
  },
  {
   "cell_type": "code",
   "execution_count": 23,
   "metadata": {},
   "outputs": [
    {
     "data": {
      "text/plain": [
       "['Language : English',\n",
       " 'Product Dimensions : 16.9 x 43.1 x 35.9 cm; 4.9 kg',\n",
       " 'Release date : 5 April 2024',\n",
       " 'ASIN : B0CY5HVDS2',\n",
       " 'Item model number : CFI-2008A01X',\n",
       " 'Country of Origin : China',\n",
       " 'Manufacturer : Sony, Made in China by Sony Interactive Entertainment Europe 1-7-1 Konan Minato-ku Tokyo, 108-0075 Japan, Sony India Pvt. Ltd.',\n",
       " 'Packer : Made in China by Sony Interactive Entertainment Europe 1-7-1 Konan Minato-ku Tokyo, 108-0075 Japan, Sony India Pvt. Ltd.',\n",
       " 'Importer : A-18, Mohan Co-operative Industrial Estate, Mathura Road, New Delhi-110044',\n",
       " 'Item Weight : 4 kg 900 g',\n",
       " 'Item Dimensions LxWxH : 16.9 x 43.1 x 35.9 Centimeters',\n",
       " 'Net Quantity : 1 Count',\n",
       " 'Generic Name : PLAYSTATION 5 CONSOLE D CHASSIS']"
      ]
     },
     "execution_count": 23,
     "metadata": {},
     "output_type": "execute_result"
    }
   ],
   "source": [
    "product_data = soup.find('div', id=\"detailBullets_feature_div\")\n",
    "table = product_data.find('ul')\n",
    "columns = [f\"{x.text}\".strip() for x in table.find_all('li')]\n",
    "clean_product_details_list(columns)\n",
    "\n"
   ]
  },
  {
   "cell_type": "code",
   "execution_count": 24,
   "metadata": {},
   "outputs": [
    {
     "data": {
      "text/plain": [
       "['B0CY5HVDS2']"
      ]
     },
     "execution_count": 24,
     "metadata": {},
     "output_type": "execute_result"
    }
   ],
   "source": [
    "elements_with_attribute = soup.find_all(lambda tag: tag.has_attr('data-csa-c-asin'))\n",
    "asins = [x.attrs.get('data-csa-c-asin') for x in elements_with_attribute if x]\n",
    "asins = list(set([x for x in asins if x != \"\"]))\n",
    "asins"
   ]
  },
  {
   "cell_type": "code",
   "execution_count": 25,
   "metadata": {},
   "outputs": [
    {
     "data": {
      "text/plain": [
       "' \\n PlayStation®5 Console The PS5® console unleashes new gaming possibilities that you never anticipated. Experience lightning fast loading with an ultra-high speed SSD, deeper immersion with support for haptic feedback, adaptive triggers, and 3D Audio, and an all-new generation of incredible PlayStation® games. Lightning Speed: Harness the power of a custom CPU, GPU, and SSD with Integrated I/O that rewrite the rules of what a PlayStation® console can do. Stunning Games: Marvel at incredible graphics and experience new PS5® features. Play a back catalog of supported PS4® games. Breathtaking Immersion: Discover a deeper gaming experience with support for haptic feedback, adaptive triggers, and 3D Audio technology. Vertical stand sold separately. *PS5® console (CFI-2000 model group – slim) 23D audio via built-in TV speakers or analog/USB stereo headphones. Set up and latest system software update required. Internet connection required to pair Disc Drive and PS5® console upon setup.  '"
      ]
     },
     "execution_count": 25,
     "metadata": {},
     "output_type": "execute_result"
    }
   ],
   "source": [
    "productDescription = soup.find('div', id='productDescription').text\n",
    "productDescription"
   ]
  },
  {
   "cell_type": "code",
   "execution_count": 28,
   "metadata": {},
   "outputs": [
    {
     "data": {
      "text/plain": [
       "4.3"
      ]
     },
     "execution_count": 28,
     "metadata": {},
     "output_type": "execute_result"
    }
   ],
   "source": [
    "average_rating = soup.find(id='averageCustomerReviews').find_all(\"span\", class_='a-size-base')[0].text.strip()\n",
    "average_rating = \"\".join([x for x in f\"{average_rating}\".strip() if x.isdigit() or x == '.'])\n",
    "average_rating = float(average_rating)\n",
    "average_rating"
   ]
  },
  {
   "cell_type": "code",
   "execution_count": 29,
   "metadata": {},
   "outputs": [
    {
     "data": {
      "text/plain": [
       "291"
      ]
     },
     "execution_count": 29,
     "metadata": {},
     "output_type": "execute_result"
    }
   ],
   "source": [
    "rating_data = soup.find(id='acrCustomerReviewText').text\n",
    "rating_count = int(''.join([x for x in rating_data if x.isdigit()]))\n",
    "rating_count"
   ]
  }
 ],
 "metadata": {
  "kernelspec": {
   "display_name": ".venv",
   "language": "python",
   "name": "python3"
  },
  "language_info": {
   "codemirror_mode": {
    "name": "ipython",
    "version": 3
   },
   "file_extension": ".py",
   "mimetype": "text/x-python",
   "name": "python",
   "nbconvert_exporter": "python",
   "pygments_lexer": "ipython3",
   "version": "3.10.7"
  }
 },
 "nbformat": 4,
 "nbformat_minor": 2
}
