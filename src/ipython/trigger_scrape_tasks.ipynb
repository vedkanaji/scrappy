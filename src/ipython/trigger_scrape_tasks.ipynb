{
 "cells": [
  {
   "cell_type": "code",
   "execution_count": 11,
   "metadata": {},
   "outputs": [
    {
     "name": "stdout",
     "output_type": "stream",
     "text": [
      "Django is already configured.\n"
     ]
    }
   ],
   "source": [
    "import setup\n",
    "setup.init_django(project_name='config')"
   ]
  },
  {
   "cell_type": "code",
   "execution_count": 12,
   "metadata": {},
   "outputs": [
    {
     "ename": "ImportError",
     "evalue": "cannot import name 'scrape_product' from 'products.tasks' (E:\\scrappy\\src\\products\\tasks.py)",
     "output_type": "error",
     "traceback": [
      "\u001b[1;31m---------------------------------------------------------------------------\u001b[0m",
      "\u001b[1;31mImportError\u001b[0m                               Traceback (most recent call last)",
      "Cell \u001b[1;32mIn[12], line 2\u001b[0m\n\u001b[0;32m      1\u001b[0m \u001b[38;5;28;01mimport\u001b[39;00m\u001b[38;5;250m \u001b[39m\u001b[38;5;21;01mhelpers\u001b[39;00m\n\u001b[1;32m----> 2\u001b[0m \u001b[38;5;28;01mfrom\u001b[39;00m\u001b[38;5;250m \u001b[39m\u001b[38;5;21;01mproducts\u001b[39;00m\u001b[38;5;21;01m.\u001b[39;00m\u001b[38;5;21;01mtasks\u001b[39;00m\u001b[38;5;250m \u001b[39m\u001b[38;5;28;01mimport\u001b[39;00m scrape_data, scrape_product\n",
      "\u001b[1;31mImportError\u001b[0m: cannot import name 'scrape_product' from 'products.tasks' (E:\\scrappy\\src\\products\\tasks.py)"
     ]
    }
   ],
   "source": [
    "import helpers\n",
    "from products.tasks import scrape_data, scrape_product\n"
   ]
  },
  {
   "cell_type": "code",
   "execution_count": 7,
   "metadata": {},
   "outputs": [],
   "source": [
    "url =\"https://www.amazon.in/Sony-CFI-2008A01X-PlayStation%C2%AE5-Console-slim/dp/B0CY5HVDS2?dib=eyJ2IjoiMSJ9.pFhgCqcURNHp7Ghh6tpkbnpMS-EPEWOhlo_-YgjavWygB1LDQv6EOzw2xmRdlu_CTYidmbZUYJxO-Yx5dScwwwPgTbSFS5qYA1rc2AsGKR4Ff3QuNYZ-CptSy-XxIkc2brOJUkwrXzzyNzMkPWeqDD-iLjlkPqPMSBsjDZPNobXlW2-6jG32tGNtHwjD6IKnkZ9y1K6VExL2-siqoWmzj_wNllrEgfkJglZ-rG7Qctc.62sotlNM0TY4PkCKnWHe5VC6runjh4hUIvfK90Mz0AE&dib_tag=se&keywords=ps5&qid=1737391271&sr=8-2\"\n"
   ]
  },
  {
   "cell_type": "code",
   "execution_count": 8,
   "metadata": {},
   "outputs": [
    {
     "data": {
      "text/plain": [
       "<AsyncResult: 53e89b5b-20d4-45c6-a00e-df1e322d1aff>"
      ]
     },
     "execution_count": 8,
     "metadata": {},
     "output_type": "execute_result"
    }
   ],
   "source": [
    "scrape_data.delay(url=url)"
   ]
  },
  {
   "cell_type": "code",
   "execution_count": null,
   "metadata": {},
   "outputs": [],
   "source": [
    "scrape_product()"
   ]
  }
 ],
 "metadata": {
  "kernelspec": {
   "display_name": ".venv",
   "language": "python",
   "name": "python3"
  },
  "language_info": {
   "codemirror_mode": {
    "name": "ipython",
    "version": 3
   },
   "file_extension": ".py",
   "mimetype": "text/x-python",
   "name": "python",
   "nbconvert_exporter": "python",
   "pygments_lexer": "ipython3",
   "version": "3.10.7"
  }
 },
 "nbformat": 4,
 "nbformat_minor": 2
}
